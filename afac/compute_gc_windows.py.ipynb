{
 "cells": [
  {
   "attachments": {},
   "cell_type": "markdown",
   "metadata": {},
   "source": [
    "## Commands to run first:\n",
    "\n",
    "\n",
    "\n",
    "cut -f 1,2 hg19.fa.fai > hg19.txt\n",
    "\n",
    "\n",
    "bedtools makewindows -g hg19.txt -w 200000 > hg19.bed\n",
    "\n",
    "\n",
    "bedtools getfasta -fi hg19.fa -bed hg19.bed > hg19.win.fa\n",
    "\n",
    "\n",
    "faCount hg19.win.fa > hg19.facount.txt\n",
    " "
   ]
  },
  {
   "cell_type": "code",
   "execution_count": 2,
   "metadata": {},
   "outputs": [
    {
     "name": "stdout",
     "output_type": "stream",
     "text": [
      "/g/korbel2/weber/workspace/mosaicatcher-update/workflow/data/ref_genomes/MM10/MM10.facount.txt\n"
     ]
    }
   ],
   "source": [
    "import pandas as pd\n",
    "import os\n",
    "\n",
    "# facount_input_hg38 = \"/g/korbel2/weber/workspace/mosaicatcher-update/workflow/data/ref_genomes/HG38/hg38.facount.txt\"\n",
    "# facount_input_hg19 = \"/g/korbel2/weber/workspace/mosaicatcher-update/workflow/data/ref_genomes/HG19/hg19.facount.txt\"\n",
    "# facount_input_T2T = \"/g/korbel2/weber/workspace/mosaicatcher-update/workflow/data/ref_genomes/T2T/T2T.facount.txt\"\n",
    "facount_input_MM10 = \"/g/korbel2/weber/workspace/mosaicatcher-update/workflow/data/ref_genomes/MM10/MM10.facount.txt\"\n",
    "output_dir = \"/g/korbel2/weber/workspace/mosaicatcher-update/workflow/data/GC/\"\n",
    "output_dir = \"/g/korbel2/weber/workspace/ashleys-qc-pipeline/workflow/data/GC/\"\n",
    "\n",
    "# l_assemblies = [facount_input_hg38, facount_input_hg19, facount_input_T2T]\n",
    "l_assemblies = [facount_input_MM10]\n",
    "\n",
    "\n",
    "for facount_input in l_assemblies:\n",
    "    print(facount_input)\n",
    "    df = pd.read_csv(facount_input, sep=\"\\t\")\n",
    "    df = df.loc[df[\"#seq\"].str.contains(\"chr[0-9,X,Y]{1,2}:\", regex=True)]\n",
    "    df = df.astype({\n",
    "        \"A\" : int,\n",
    "        \"C\" : int,\n",
    "        \"G\" : int,\n",
    "        \"T\" : int,\n",
    "        \"N\" : int,\n",
    "        \"cpg\" : int,\n",
    "    })\n",
    "    df[\"%GC\"] = 100 * ((df[\"C\"] + df[\"G\"]) / (df[\"A\"] + df[\"T\"] + df[\"C\"] + df[\"G\"]))\n",
    "    df[\"cpg\"] = df[\"cpg\"].fillna(\"NA\")\n",
    "    df[\"%GC\"] = df[\"%GC\"].fillna(\"NA\")\n",
    "\n",
    "    df[[\"chrom\", \"start\", \"end\"]] = df[\"#seq\"].str.split(\":|-\", expand=True)\n",
    "    df = df[[\"chrom\", \"start\", \"end\", \"A\", \"C\", \"G\", \"T\", \"N\", \"cpg\", \"%GC\"]]\n",
    "\n",
    "    df.to_csv(output_dir + os.path.basename(facount_input).replace(\"facount.txt\", \"GC_matrix.txt.gz\"), sep=\"\\t\", index=False, compression=\"gzip\")\n"
   ]
  }
 ],
 "metadata": {
  "kernelspec": {
   "display_name": "notebook",
   "language": "python",
   "name": "python3"
  },
  "language_info": {
   "codemirror_mode": {
    "name": "ipython",
    "version": 3
   },
   "file_extension": ".py",
   "mimetype": "text/x-python",
   "name": "python",
   "nbconvert_exporter": "python",
   "pygments_lexer": "ipython3",
   "version": "3.10.8"
  },
  "orig_nbformat": 4,
  "vscode": {
   "interpreter": {
    "hash": "78fa508ab2e192b4a254b28a725d833b831d8c59fad754b36ca08ed215ba52bc"
   }
  }
 },
 "nbformat": 4,
 "nbformat_minor": 2
}
