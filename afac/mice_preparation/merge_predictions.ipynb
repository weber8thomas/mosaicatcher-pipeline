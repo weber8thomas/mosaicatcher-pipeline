{
 "cells": [
  {
   "cell_type": "code",
   "execution_count": null,
   "metadata": {},
   "outputs": [],
   "source": [
    "import pandas as pd\n",
    "pd.options.display.max_rows = 100\n",
    "samples = [\"PDAC60590\", \"PDAC60590MNI\"]"
   ]
  },
  {
   "cell_type": "code",
   "execution_count": null,
   "metadata": {},
   "outputs": [],
   "source": [
    "for sample in samples:\n",
    "    maja_predictions = pd.read_excel(f\"/g/korbel/starostecka/Test_Thomas/Scoring_{sample}.xlsx\").rename({\"Cell ID\": \"cell\"}, axis=1)\n",
    "    mc_predictions = pd.read_csv(f\"/scratch/tweber/DATA/MC_DATA/2023-05-15-HGFCJAFX5/{sample}/counts/{sample}.info_raw\", sep=\"\\t\", skiprows=13)\n",
    "    merge = pd.merge(maja_predictions, mc_predictions[[\"cell\", \"sample\", \"pass1\"]], on=\"cell\")\n",
    "    merge.loc[(merge[\"pass1\"] == 1) & (merge[\"Score\"] == 1), \"prediction\"] = 1\n",
    "    merge[\"prediction\"] = merge[\"prediction\"].fillna(0)\n",
    "    merge[\"prediction\"] = merge[\"prediction\"].astype(int)\n",
    "    merge[\"probability\"] = merge[\"prediction\"]\n",
    "    merge[\"cell\"]  = merge[\"cell\"] + \".sort.mdup.bam\"\n",
    "    merge[[\"cell\", \"prediction\", \"probability\", \"sample\"]].to_csv(f\"/scratch/tweber/DATA/MC_DATA/2023-05-15-HGFCJAFX5/{sample}/cell_selection/labels.tsv\", sep=\"\\t\", index=False)\n",
    "# merge[[\"cell\", \"prediction\", \"probability\", \"sample\"]]\n",
    "# maja_predictions"
   ]
  },
  {
   "cell_type": "code",
   "execution_count": null,
   "metadata": {},
   "outputs": [],
   "source": [
    "mc_predictions = pd.read_csv(f\"/scratch/tweber/DATA/MC_DATA/2023-05-15-HGFCJAFX5/{sample}/counts/{sample}.info_raw\", sep=\"\\t\", skiprows=13)\n",
    "# mc_predictions"
   ]
  },
  {
   "cell_type": "code",
   "execution_count": null,
   "metadata": {},
   "outputs": [],
   "source": [
    "merge = pd.merge(maja_predictions, mc_predictions[[\"cell\", \"sample\", \"pass1\"]], on=\"cell\")\n",
    "merge.loc[(merge[\"pass1\"] == 1) & (merge[\"Score\"] == 1), \"prediction\"] = 1\n",
    "merge[\"prediction\"] = merge[\"prediction\"].fillna(0)\n",
    "merge[\"prediction\"] = merge[\"prediction\"].astype(int)\n",
    "merge[\"probability\"] = merge[\"prediction\"]\n",
    "merge[\"cell\"]  = merge[\"cell\"] + \".sort.mdup.bam\"\n",
    "merge[[\"cell\", \"prediction\", \"probability\", \"sample\"]].to_csv(f\"/scratch/tweber/DATA/MC_DATA/2023-05-15-HGFCJAFX5/{sample}/cell_selection/labels.tsv\", sep=\"\\t\", index=False)\n",
    "merge[[\"cell\", \"prediction\", \"probability\", \"sample\"]]"
   ]
  }
 ],
 "metadata": {
  "kernelspec": {
   "display_name": "notebook",
   "language": "python",
   "name": "python3"
  },
  "language_info": {
   "codemirror_mode": {
    "name": "ipython",
    "version": 3
   },
   "file_extension": ".py",
   "mimetype": "text/x-python",
   "name": "python",
   "nbconvert_exporter": "python",
   "pygments_lexer": "ipython3",
   "version": "3.10.8"
  },
  "orig_nbformat": 4
 },
 "nbformat": 4,
 "nbformat_minor": 2
}
